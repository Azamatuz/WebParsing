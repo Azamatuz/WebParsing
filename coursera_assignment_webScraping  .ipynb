{
 "cells": [
  {
   "cell_type": "code",
   "execution_count": 1,
   "metadata": {
    "collapsed": false
   },
   "outputs": [],
   "source": [
    "# this code must run Python 3\n",
    "# it opens an url, finds numbers and gives the sum of them\n",
    "from bs4 import BeautifulSoup\n",
    "from urllib.request import urlopen"
   ]
  },
  {
   "cell_type": "code",
   "execution_count": 2,
   "metadata": {
    "collapsed": false
   },
   "outputs": [
    {
     "name": "stdout",
     "output_type": "stream",
     "text": [
      "Enter an url:http://python-data.dr-chuck.net/comments_286268.html\n"
     ]
    }
   ],
   "source": [
    "url = input('Enter an url:')\n",
    "html = urlopen(url).read()\n",
    "soup = BeautifulSoup(html, 'lxml')\n",
    "numbers = []\n",
    "tags = soup('span')\n",
    "for tag in tags:\n",
    "    num = tag\n",
    "    numbers.extend(num)\n",
    "numbers = map(int, numbers)"
   ]
  },
  {
   "cell_type": "code",
   "execution_count": 3,
   "metadata": {
    "collapsed": false
   },
   "outputs": [
    {
     "name": "stdout",
     "output_type": "stream",
     "text": [
      "2498\n"
     ]
    }
   ],
   "source": [
    "summa = sum(numbers)\n",
    "print(summa)"
   ]
  }
 ],
 "metadata": {
  "kernelspec": {
   "display_name": "Python 3",
   "language": "python",
   "name": "python3"
  },
  "language_info": {
   "codemirror_mode": {
    "name": "ipython",
    "version": 3
   },
   "file_extension": ".py",
   "mimetype": "text/x-python",
   "name": "python",
   "nbconvert_exporter": "python",
   "pygments_lexer": "ipython3",
   "version": "3.5.1"
  }
 },
 "nbformat": 4,
 "nbformat_minor": 0
}
