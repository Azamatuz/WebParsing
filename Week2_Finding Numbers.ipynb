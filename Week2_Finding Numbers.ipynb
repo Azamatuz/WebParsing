{
 "cells": [
  {
   "cell_type": "code",
   "execution_count": 14,
   "metadata": {
    "collapsed": false
   },
   "outputs": [],
   "source": [
    "import re\n",
    "text = open('regex_sum_42.txt')\n",
    "number = []\n",
    "for line in text:\n",
    "    num = re.findall('[0-9]+',line)\n",
    "     \n",
    "    number.extend(num)\n",
    "number = map(int, number)   #map convert str to int. even print does not  show the list it works. \n"
   ]
  },
  {
   "cell_type": "code",
   "execution_count": 15,
   "metadata": {
    "collapsed": false
   },
   "outputs": [
    {
     "name": "stdout",
     "output_type": "stream",
     "text": [
      "380026\n"
     ]
    }
   ],
   "source": [
    "result = sum(number)\n",
    "print(result)"
   ]
  }
 ],
 "metadata": {
  "kernelspec": {
   "display_name": "Python 3",
   "language": "python",
   "name": "python3"
  },
  "language_info": {
   "codemirror_mode": {
    "name": "ipython",
    "version": 3
   },
   "file_extension": ".py",
   "mimetype": "text/x-python",
   "name": "python",
   "nbconvert_exporter": "python",
   "pygments_lexer": "ipython3",
   "version": "3.5.1"
  }
 },
 "nbformat": 4,
 "nbformat_minor": 0
}
